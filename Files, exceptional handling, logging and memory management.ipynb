{
 "cells": [
  {
   "cell_type": "markdown",
   "id": "baa1ee8d-45c8-4c3d-b8f9-bc1fcc61ce2d",
   "metadata": {},
   "source": [
    "1 What is the difference between interpreted and compiled languages?\n",
    "\n",
    "Interpreted Languages: Code is executed line-by-line by an interpreter at runtime. Example: Python.\n",
    "Compiled Languages: Code is converted into machine code by a compiler before execution. Example: C++."
   ]
  },
  {
   "cell_type": "markdown",
   "id": "46a39905-9d99-43d4-8139-0dca0e97ddb3",
   "metadata": {},
   "source": [
    "2 What is exception handling in Python?\n",
    "\n",
    "Exception handling in Python allows programs to manage errors gracefully using constructs like try, except, else, and finally."
   ]
  },
  {
   "cell_type": "markdown",
   "id": "7eb210eb-6552-4f1c-9c35-8fe02925e0ac",
   "metadata": {},
   "source": [
    "3 What is the purpose of the finally block in exception handling?\n",
    "\n",
    "The finally block executes code regardless of whether an exception occurred, ensuring cleanup actions like closing files or releasing resources.\n"
   ]
  },
  {
   "cell_type": "markdown",
   "id": "0a1d42bb-01c9-4b5b-900e-60963b04d531",
   "metadata": {},
   "source": [
    "4 What is logging in Python?\n",
    "\n",
    "Logging is a feature that allows developers to track events in an application, record errors, and debug issues using the logging module."
   ]
  },
  {
   "cell_type": "markdown",
   "id": "e03f7379-105e-48c3-b194-58327c3c0461",
   "metadata": {},
   "source": [
    "5 What is the significance of the __del__ method in Python?\n",
    "\n",
    "The __del__ method is a destructor called when an object is about to be destroyed, used for cleanup operations.\n"
   ]
  },
  {
   "cell_type": "markdown",
   "id": "12c1d224-5eb1-4530-98b7-c463ca25ae82",
   "metadata": {},
   "source": [
    "6 What is the difference between import and from ... import in Python?\n",
    "\n",
    "import module: Imports the entire module.\n",
    "from module import item: Imports specific items from a module."
   ]
  },
  {
   "cell_type": "markdown",
   "id": "c7097357-d6c4-4b4d-b2db-84ba493c1c3c",
   "metadata": {},
   "source": [
    "7 how can you handle multiple exceptions in Python?\n",
    "\n",
    "Using a tuple of exceptions\n",
    "try:\n",
    "    # Code\n",
    "except (Exception1, Exception2) as e:\n",
    "    # Handle exceptions\n"
   ]
  },
  {
   "cell_type": "markdown",
   "id": "76fdd214-6bbd-41ae-a0c8-f38b12fab08b",
   "metadata": {},
   "source": [
    "8 What is the purpose of the with statement when handling files in Python?\n",
    "\n",
    "The with statement ensures proper resource management, automatically closing the file after the block is executed."
   ]
  },
  {
   "cell_type": "markdown",
   "id": "8a1899a8-1c32-43ba-b979-46fb5ea834fe",
   "metadata": {},
   "source": [
    "9 What is the difference between multithreading and multiprocessing?\n",
    "\n",
    "Multithreading: Multiple threads run in the same process, sharing memory.\n",
    "Multiprocessing: Multiple processes run independently, each with its own memory space."
   ]
  },
  {
   "cell_type": "markdown",
   "id": "45b4009c-223a-4cee-acc5-4da4cc3cf7a5",
   "metadata": {},
   "source": [
    "10 What are the advantages of using logging in a program?\n",
    "\n",
    "Tracks program execution.\n",
    "Records unexpected events.\n",
    "Aids in debugging.\n",
    "Provides a configurable log level."
   ]
  },
  {
   "cell_type": "markdown",
   "id": "a58337e5-6ba9-4157-9a1b-70837b8fd219",
   "metadata": {},
   "source": [
    "11 What is memory management in Python?\n",
    "\n",
    "Python uses automatic memory management with a garbage collector that handles memory allocation and deallocation."
   ]
  },
  {
   "cell_type": "markdown",
   "id": "7b27cf15-5957-4013-9c3b-7a137ad78ae3",
   "metadata": {},
   "source": [
    "12 What are the basic steps involved in exception handling in Python?\n",
    "\n",
    "Use try to wrap code that might raise an exception.\n",
    "Use except to handle specific exceptions.\n",
    "Optionally use else for code that runs if no exceptions occur.\n",
    "Use finally for cleanup actions."
   ]
  },
  {
   "cell_type": "markdown",
   "id": "abc1cd98-65ce-443d-a92e-0978daa6bf02",
   "metadata": {},
   "source": [
    "13 Why is memory management important in Python?\n",
    "\n",
    "Efficient memory management prevents memory leaks and ensures optimal performance."
   ]
  },
  {
   "cell_type": "markdown",
   "id": "64196c9e-e66f-4b78-b937-5e17f2b3aa4e",
   "metadata": {},
   "source": [
    "14 What is the role of try and except in exception handling?\n",
    "\n",
    "try: Contains code that might raise an exception.\n",
    "except: Handles exceptions raised in the try block."
   ]
  },
  {
   "cell_type": "markdown",
   "id": "fabc300e-b80b-456b-8c8a-f5d35f314611",
   "metadata": {},
   "source": [
    "15 How does Python's garbage collection system work?\n",
    "\n",
    "Python uses reference counting and a cyclic garbage collector to automatically free unused memory."
   ]
  },
  {
   "cell_type": "markdown",
   "id": "29eee3a3-26aa-4f02-b147-41f02ec8ee01",
   "metadata": {},
   "source": [
    "16 What is the purpose of the else block in exception handling?\n",
    "\n",
    "The else block executes if no exceptions occur in the try block."
   ]
  },
  {
   "cell_type": "markdown",
   "id": "12086c06-60ad-4550-aca4-b826f6974fd7",
   "metadata": {},
   "source": [
    "17 What are the common logging levels in Python?\n",
    "\n",
    "DEBUG, INFO, WARNING, ERROR, CRITICAL."
   ]
  },
  {
   "cell_type": "markdown",
   "id": "818da45c-66bd-4e39-ade2-7d08ae276664",
   "metadata": {},
   "source": [
    "18 What is the difference between os.fork() and multiprocessing in Python?\n",
    "\n",
    "os.fork(): Creates a child process at the OS level (Unix-based systems).\n",
    "multiprocessing: Cross-platform library for creating processes with more control."
   ]
  },
  {
   "cell_type": "markdown",
   "id": "2d8b6c42-4eed-4e71-8093-637bd9aef94b",
   "metadata": {},
   "source": [
    "19 What is the importance of closing a file in Python?\n",
    "\n",
    "Closing a file ensures that resources are released and changes are saved to the file."
   ]
  },
  {
   "cell_type": "markdown",
   "id": "81aedf82-8a08-4aa9-89af-e63e1770ec24",
   "metadata": {},
   "source": [
    "20 What is the difference between file.read() and file.readline() in Python?\n",
    "\n",
    "file.read(): Reads the entire file or a specified number of characters.\n",
    "file.readline(): Reads a single line from the file."
   ]
  },
  {
   "cell_type": "markdown",
   "id": "6b71ccc3-a7fe-4419-9406-64629e8accf9",
   "metadata": {},
   "source": [
    "21 What is the logging module in Python used for?\n",
    "\n",
    "It provides a flexible framework for tracking events, debugging, and error reporting."
   ]
  },
  {
   "cell_type": "markdown",
   "id": "ded13a20-3b87-4e77-ab84-f8d44fad1298",
   "metadata": {},
   "source": [
    "22 What is the os module in Python used for in file handling?\n",
    "\n",
    "The os module provides functions for interacting with the operating system, such as file and directory operations."
   ]
  },
  {
   "cell_type": "markdown",
   "id": "04f78939-7a61-45ed-8881-ca1163883889",
   "metadata": {},
   "source": [
    "23 What are the challenges associated with memory management in Python?\n",
    "\n",
    "Managing cyclic references.\n",
    "Handling large memory allocations for performance-intensive applications."
   ]
  },
  {
   "cell_type": "markdown",
   "id": "da4c09b6-c550-4eb1-93c8-23a4d045a827",
   "metadata": {},
   "source": [
    "24 How do you raise an exception manually in Python?\n",
    "\n",
    "Using the raise statement\n",
    "raise Exception(\"Custom error message\")\n"
   ]
  },
  {
   "cell_type": "markdown",
   "id": "32615660-d285-415b-938f-275fb323a816",
   "metadata": {},
   "source": [
    "25 Why is it important to use multithreading in certain applications?\n",
    "\n",
    "Multithreading improves performance by allowing concurrent execution, especially for I/O-bound tasks."
   ]
  },
  {
   "cell_type": "code",
   "execution_count": null,
   "id": "4c40f72c-bced-494c-bfbf-8032ebb79a01",
   "metadata": {},
   "outputs": [],
   "source": [
    "#practical questions "
   ]
  },
  {
   "cell_type": "markdown",
   "id": "5e974214-934a-4e7c-825e-e475add8ef5d",
   "metadata": {},
   "source": [
    "1. How can you open a file for writing in Python and write a string to it? \n",
    "with open(\"example.txt\", \"w\") as file:\n",
    "    file.write(\"This is a sample string.\")\n",
    "\n",
    "2. Write a Python program to read the contents of a file and print each line. \n",
    "with open(\"example.txt\", \"r\") as file:\n",
    "    for line in file:\n",
    "        print(line.strip())\n",
    "\n",
    "3. How would you handle a case where the file doesn't exist while trying to open it for reading? \n",
    "try:\n",
    "    with open(\"nonexistent.txt\", \"r\") as file:\n",
    "        content = file.read()\n",
    "except FileNotFoundError:\n",
    "    print(\"File does not exist.\")\n",
    "\n",
    "4. Write a Python script that reads from one file and writes its content to another file.  \n",
    "with open(\"source.txt\", \"r\") as source, open(\"destination.txt\", \"w\") as destination:\n",
    "    destination.write(source.read())\n",
    "\n",
    "5. How would you catch and handle a division by zero error in Python?  \n",
    "try:\n",
    "    result = 10 / 0\n",
    "except ZeroDivisionError:\n",
    "    print(\"Cannot divide by zero.\")\n",
    "\n",
    "6. Write a Python program that logs an error message to a log file when a division by zero exception occurs. \n",
    "import logging\n",
    "\n",
    "logging.basicConfig(filename=\"error.log\", level=logging.ERROR)\n",
    "\n",
    "try:\n",
    "    result = 10 / 0\n",
    "except ZeroDivisionError as e:\n",
    "    logging.error(\"Division by zero error: %s\", e)\n",
    "\n",
    "7. How do you log information at different levels (INFO, ERROR, WARNING) in Python using the logging module?  \n",
    "import logging\n",
    "\n",
    "logging.basicConfig(level=logging.INFO)\n",
    "logging.info(\"This is an INFO message.\")\n",
    "logging.warning(\"This is a WARNING message.\")\n",
    "logging.error(\"This is an ERROR message.\")\n",
    "\n",
    "8. Write a program to handle a file opening error using exception handling.  \n",
    "try:\n",
    "    with open(\"nonexistent.txt\", \"r\") as file:\n",
    "        print(file.read())\n",
    "except FileNotFoundError:\n",
    "    print(\"The file cannot be opened because it does not exist.\")\n",
    "\n",
    "9. How can you read a file line by line and store its content in a list in Python?  \n",
    "with open(\"example.txt\", \"r\") as file:\n",
    "    lines = [line.strip() for line in file]\n",
    "print(lines)\n",
    "\n",
    "10. How can you append data to an existing file in Python?  \n",
    "with open(\"example.txt\", \"a\") as file:\n",
    "    file.write(\"\\nThis is an appended line.\")\n",
    "\n",
    "11. Write a Python program that uses a try-except block to handle an error when attempting to access a dictionary key that doesn't exist.\n",
    "data = {\"key1\": \"value1\"}\n",
    "try:\n",
    "    print(data[\"key2\"])\n",
    "except KeyError:\n",
    "    print(\"Key does not exist.\")\n",
    "\n",
    "12. Write a program that demonstrates using multiple except blocks to handle different types of exceptions.  \n",
    "try:\n",
    "    result = 10 / 0\n",
    "except ZeroDivisionError:\n",
    "    print(\"Division by zero error.\")\n",
    "except ValueError:\n",
    "    print(\"Value error occurred.\")\n",
    "\n",
    "13. How would you check if a file exists before attempting to read it in Python?  \n",
    "import os\n",
    "\n",
    "if os.path.exists(\"example.txt\"):\n",
    "    with open(\"example.txt\", \"r\") as file:\n",
    "        print(file.read())\n",
    "else:\n",
    "    print(\"File does not exist.\")\n",
    "\n",
    "14. Write a program that uses the logging module to log both informational and error messages.  \n",
    "import logging\n",
    "\n",
    "logging.basicConfig(filename=\"app.log\", level=logging.INFO)\n",
    "logging.info(\"This is an informational message.\")\n",
    "try:\n",
    "    result = 10 / 0\n",
    "except ZeroDivisionError:\n",
    "    logging.error(\"An error occurred: Division by zero.\")\n",
    "\n",
    "15. Write a Python program that prints the content of a file and handles the case when the file is empty.\n",
    "with open(\"example.txt\", \"r\") as file:\n",
    "    content = file.read()\n",
    "    if not content:\n",
    "        print(\"The file is empty.\")\n",
    "    else:\n",
    "        print(content)\n",
    "\n",
    "16. Demonstrate how to use memory profiling to check the memory usage of a small program.  \n",
    "from memory_profiler import profile\n",
    "\n",
    "@profile\n",
    "def example_function():\n",
    "    data = [i for i in range(100000)]\n",
    "    return data\n",
    "\n",
    "example_function()\n",
    "\n",
    "17. Write a Python program to create and write a list of numbers to a file, one number per line. \n",
    "numbers = [1, 2, 3, 4, 5]\n",
    "with open(\"numbers.txt\", \"w\") as file:\n",
    "    for number in numbers:\n",
    "        file.write(f\"{number}\\n\")\n",
    "\n",
    "18. How would you implement a basic logging setup that logs to a file with rotation after 1MB?  \n",
    "import logging\n",
    "from logging.handlers import RotatingFileHandler\n",
    "\n",
    "handler = RotatingFileHandler(\"app.log\", maxBytes=1_000_000, backupCount=3)\n",
    "logging.basicConfig(handlers=[handler], level=logging.INFO)\n",
    "logging.info(\"Rotating logging setup initialized.\")\n",
    "\n",
    "19. Write a program that handles both IndexError and KeyError using a try-except block.  \n",
    "data = {\"key\": \"value\"}\n",
    "lst = [1, 2, 3]\n",
    "\n",
    "try:\n",
    "    print(lst[5])\n",
    "    print(data[\"key2\"])\n",
    "except IndexError:\n",
    "    print(\"Index out of range.\")\n",
    "except KeyError:\n",
    "    print(\"Key does not exist.\")\n",
    "\n",
    "20. How would you open a file and read its contents using a context manager in Python?  \n",
    "with open(\"example.txt\", \"r\") as file:\n",
    "    content = file.read()\n",
    "print(content)\n",
    "\n",
    "21. Write a Python program that reads a file and prints the number of occurrences of a specific word.  \n",
    "word_to_count = \"Python\"\n",
    "with open(\"example.txt\", \"r\") as file:\n",
    "    content = file.read()\n",
    "print(content.lower().count(word_to_count.lower()))\n",
    "\n",
    "22. How can you check if a file is empty before attempting to read its contents?  \n",
    "import os\n",
    "\n",
    "if os.stat(\"example.txt\").st_size == 0:\n",
    "    print(\"The file is empty.\")\n",
    "else:\n",
    "    with open(\"example.txt\", \"r\") as file:\n",
    "        print(file.read())\n",
    "\n",
    "23. Write a Python program that writes to a log file when an error occurs during file handling.  \n",
    "import logging\n",
    "\n",
    "logging.basicConfig(filename=\"file_error.log\", level=logging.ERROR)\n",
    "\n",
    "try:\n",
    "    with open(\"nonexistent.txt\", \"r\") as file:\n",
    "        print(file.read())\n",
    "except FileNotFoundError as e:\n",
    "    logging.error(\"File handling error: %s\", e)\n"
   ]
  },
  {
   "cell_type": "code",
   "execution_count": null,
   "id": "3d8c85a4-a6f2-4857-a409-b3b4c34b0135",
   "metadata": {},
   "outputs": [],
   "source": []
  },
  {
   "cell_type": "code",
   "execution_count": null,
   "id": "e4e48e2f-51d7-491e-af87-127cbc21e16f",
   "metadata": {},
   "outputs": [],
   "source": []
  }
 ],
 "metadata": {
  "kernelspec": {
   "display_name": "Python 3 (ipykernel)",
   "language": "python",
   "name": "python3"
  },
  "language_info": {
   "codemirror_mode": {
    "name": "ipython",
    "version": 3
   },
   "file_extension": ".py",
   "mimetype": "text/x-python",
   "name": "python",
   "nbconvert_exporter": "python",
   "pygments_lexer": "ipython3",
   "version": "3.13.0"
  }
 },
 "nbformat": 4,
 "nbformat_minor": 5
}
